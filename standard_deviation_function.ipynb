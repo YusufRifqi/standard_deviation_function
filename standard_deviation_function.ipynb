{
  "nbformat": 4,
  "nbformat_minor": 0,
  "metadata": {
    "colab": {
      "provenance": []
    },
    "kernelspec": {
      "name": "python3",
      "display_name": "Python 3"
    },
    "language_info": {
      "name": "python"
    }
  },
  "cells": [
    {
      "cell_type": "markdown",
      "source": [
        "An Example Function Code to find variance and standard deviation of A list which contain values."
      ],
      "metadata": {
        "id": "Fad9rktN8_P2"
      }
    },
    {
      "cell_type": "code",
      "source": [
        "#A List Example\n",
        "data1 = [70, 70, 70, 100, 100, 100, 120, 120, 150, 150,75,89,8,34,56,78,90,34,12,15,16,75,43,23,45,45,44,78,29,37,51,36,35,23,67,88,89,20,13,10,41,26,34,25,60,10,20,40,50,55,26,68,44,78]\n",
        "data2 = [50, 60, 60, 50, 70, 70, 100, 80, 100, 90,43,23,45,94,51,36,35,23,67,88,89,20,13,10,41,26,34,25,60,10,20,40,50,55, 70, 100, 100, 100, 120, 12]"
      ],
      "metadata": {
        "id": "U1gQQCb289o3"
      },
      "execution_count": 11,
      "outputs": []
    },
    {
      "cell_type": "code",
      "source": [
        "#How Much Value in every list ?\n",
        "\n",
        "print(\"data1 consist of \", len(data1), \"value\")\n",
        "\n",
        "print(\"data2 consist of \", len(data2), \"value\")"
      ],
      "metadata": {
        "colab": {
          "base_uri": "https://localhost:8080/"
        },
        "id": "EMrE0y4j75Mg",
        "outputId": "d08074cc-cc04-44e8-9667-c3181c8060d1"
      },
      "execution_count": 12,
      "outputs": [
        {
          "output_type": "stream",
          "name": "stdout",
          "text": [
            "data1 consist of  54 value\n",
            "data2 consist of  40 value\n"
          ]
        }
      ]
    },
    {
      "cell_type": "code",
      "source": [
        "#Finding Average in every list with Function\n",
        "#1st Version\n",
        "%%timeit\n",
        "def average(data):\n",
        "    jumlah = 0\n",
        "    for item in data:\n",
        "        jumlah += item\n",
        "    average = jumlah/len(data)\n",
        "    return average\n"
      ],
      "metadata": {
        "colab": {
          "base_uri": "https://localhost:8080/"
        },
        "id": "QB6ePr4J91pJ",
        "outputId": "5aa1a099-ebcd-4478-b80a-b79df7d8187f"
      },
      "execution_count": 36,
      "outputs": [
        {
          "output_type": "stream",
          "name": "stdout",
          "text": [
            "49.8 ns ± 0.445 ns per loop (mean ± std. dev. of 7 runs, 10000000 loops each)\n"
          ]
        }
      ]
    },
    {
      "cell_type": "code",
      "source": [
        "print('Average in data1:')\n",
        "print(average(data1))\n",
        "print('average in data2:')\n",
        "print(average(data2))"
      ],
      "metadata": {
        "colab": {
          "base_uri": "https://localhost:8080/"
        },
        "id": "r1PFgZIDJAkC",
        "outputId": "a6631299-ceef-48d7-fb52-732b246d4628"
      },
      "execution_count": 37,
      "outputs": [
        {
          "output_type": "stream",
          "name": "stdout",
          "text": [
            "Average in data1:\n",
            "55.27777777777778\n",
            "average in data2:\n",
            "55.75\n"
          ]
        }
      ]
    },
    {
      "cell_type": "code",
      "source": [
        "#2nd Version\n",
        "%%timeit\n",
        "def average(data):\n",
        "    jumlah = 0\n",
        "    for item in data:\n",
        "        jumlah += 1\n",
        "    average = sum(data)/jumlah\n",
        "    return average\n"
      ],
      "metadata": {
        "colab": {
          "base_uri": "https://localhost:8080/"
        },
        "id": "83M_bU7c-WrC",
        "outputId": "b798db7f-90a1-4e9a-97c3-ccca5518a9cf"
      },
      "execution_count": 33,
      "outputs": [
        {
          "output_type": "stream",
          "name": "stdout",
          "text": [
            "49.6 ns ± 1.11 ns per loop (mean ± std. dev. of 7 runs, 10000000 loops each)\n"
          ]
        }
      ]
    },
    {
      "cell_type": "code",
      "source": [
        "print('Average in data1:')\n",
        "print(average(data1))\n",
        "print('average in data2:')\n",
        "print(average(data2))"
      ],
      "metadata": {
        "colab": {
          "base_uri": "https://localhost:8080/"
        },
        "id": "laB1OXs4-74L",
        "outputId": "05dae0ef-3652-46f6-a06a-beb06bd520b0"
      },
      "execution_count": 34,
      "outputs": [
        {
          "output_type": "stream",
          "name": "stdout",
          "text": [
            "Average in data1:\n",
            "55.27777777777778\n",
            "average in data2:\n",
            "55.75\n"
          ]
        }
      ]
    },
    {
      "cell_type": "markdown",
      "source": [
        "FIND VARIANCE AND STANDARD DEVIATION"
      ],
      "metadata": {
        "id": "NVJYe3r5JFIv"
      }
    },
    {
      "cell_type": "code",
      "source": [
        " #Definisikan fungsi hitung_standar_deviasi\n",
        " %%timeit\n",
        "def hitung_standar_deviasi(data):\n",
        "    average_data = average(data)\n",
        "    varians = 0\n",
        "    for item in data:\n",
        "        varians += (item - average_data) ** 2\n",
        "    varians /= len(data)\n",
        "    standar_deviasi = varians ** (1/2)\n",
        "    return standar_deviasi\n"
      ],
      "metadata": {
        "colab": {
          "base_uri": "https://localhost:8080/"
        },
        "id": "xucJfo4nCgd4",
        "outputId": "0467ecd7-8c18-4587-e98b-8654d9554b09"
      },
      "execution_count": 45,
      "outputs": [
        {
          "output_type": "stream",
          "name": "stdout",
          "text": [
            "48.3 ns ± 1.07 ns per loop (mean ± std. dev. of 7 runs, 10000000 loops each)\n"
          ]
        }
      ]
    },
    {
      "cell_type": "code",
      "source": [
        "# Hitung nilai standar deviasi dari kedua data yang dimiliki\n",
        "print('Standar deviasi data1:')\n",
        "print(hitung_standar_deviasi(data1))\n",
        "print('Standar deviasi data2:')\n",
        "print(hitung_standar_deviasi(data2))"
      ],
      "metadata": {
        "colab": {
          "base_uri": "https://localhost:8080/"
        },
        "id": "mSmGFct2JYv1",
        "outputId": "f0048fe4-4c7f-46d0-cba8-c41e5c699b87"
      },
      "execution_count": 46,
      "outputs": [
        {
          "output_type": "stream",
          "name": "stdout",
          "text": [
            "Standar deviasi data1:\n",
            "34.641773469841326\n",
            "Standar deviasi data2:\n",
            "30.289230759463006\n"
          ]
        }
      ]
    },
    {
      "cell_type": "code",
      "source": [],
      "metadata": {
        "id": "P7BWVFjmJp49"
      },
      "execution_count": null,
      "outputs": []
    }
  ]
}